{
 "cells": [
  {
   "cell_type": "code",
   "execution_count": 2,
   "id": "f174349a",
   "metadata": {},
   "outputs": [],
   "source": [
    "import h5py"
   ]
  },
  {
   "cell_type": "code",
   "execution_count": 10,
   "id": "acf06797",
   "metadata": {},
   "outputs": [
    {
     "data": {
      "text/plain": [
       "h5py._hl.files.File"
      ]
     },
     "execution_count": 10,
     "metadata": {},
     "output_type": "execute_result"
    }
   ],
   "source": [
    "file_path = \"tweet_model1/v4-roberta-3.h5\"\n",
    "file0 = h5py.File(file_path, \"r\")\n",
    "type(file0)\n",
    "\n",
    "# import h5py\n",
    "\n",
    "# filename = \"vstoxx_data_31032014.h5\"\n",
    "\n",
    "# h5 = h5py.File(filename,'r')\n",
    "\n",
    "# futures_data = h5['futures_data']  # VSTOXX futures data\n",
    "# options_data = h5['options_data']  # VSTOXX call option data\n",
    "\n",
    "# h5.close()"
   ]
  },
  {
   "cell_type": "code",
   "execution_count": 5,
   "id": "cabac618",
   "metadata": {},
   "outputs": [
    {
     "data": {
      "text/plain": [
       "<HDF5 file \"v4-roberta-0.h5\" (mode r)>"
      ]
     },
     "execution_count": 5,
     "metadata": {},
     "output_type": "execute_result"
    }
   ],
   "source": [
    "file0"
   ]
  },
  {
   "cell_type": "code",
   "execution_count": 11,
   "id": "e87ddead",
   "metadata": {},
   "outputs": [
    {
     "name": "stdout",
     "output_type": "stream",
     "text": [
      "Keys: <KeysViewHDF5 ['activation', 'activation_1', 'conv1d', 'conv1d_1', 'conv1d_2', 'conv1d_3', 'conv1d_4', 'conv1d_5', 'dense', 'dense_1', 'dropout_38', 'dropout_39', 'flatten', 'flatten_1', 'input_1', 'input_2', 'input_3', 'leaky_re_lu', 'leaky_re_lu_1', 'leaky_re_lu_2', 'leaky_re_lu_3', 'leaky_re_lu_4', 'leaky_re_lu_5', 'tf_roberta_model']>\n"
     ]
    }
   ],
   "source": [
    "with h5py.File(file_path, \"r\") as f:\n",
    "    # List all groups\n",
    "    print(\"Keys: %s\" % f.keys())\n",
    "    a_group_key = list(f.keys())[0]\n",
    "\n",
    "    # Get the data\n",
    "    data = list(f[a_group_key])"
   ]
  },
  {
   "cell_type": "code",
   "execution_count": null,
   "id": "4cbcd669",
   "metadata": {},
   "outputs": [],
   "source": []
  }
 ],
 "metadata": {
  "kernelspec": {
   "display_name": "Python 3 (ipykernel)",
   "language": "python",
   "name": "python3"
  },
  "language_info": {
   "codemirror_mode": {
    "name": "ipython",
    "version": 3
   },
   "file_extension": ".py",
   "mimetype": "text/x-python",
   "name": "python",
   "nbconvert_exporter": "python",
   "pygments_lexer": "ipython3",
   "version": "3.9.10"
  }
 },
 "nbformat": 4,
 "nbformat_minor": 5
}
