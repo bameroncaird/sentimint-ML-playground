{
 "cells": [
  {
   "cell_type": "code",
   "execution_count": 1,
   "id": "9ad01ae7",
   "metadata": {},
   "outputs": [
    {
     "name": "stdout",
     "output_type": "stream",
     "text": [
      "textID,text,selected_text,sentiment\n",
      "\n",
      "cb774db0d1,\" I`d have responded, if I were going\",\"I`d have responded, if I were going\",neutral\n",
      "\n",
      "new_cb774db0d1_0,I`d have reply if I were going,I`d have reply if I were going,neutral\n",
      "\n",
      "new_cb774db0d1_1,\"I`d have responded, if I were sound\",\"I`d have responded, if I were sound\",neutral\n",
      "\n",
      "new_cb774db0d1_2,\"I`d have responded, if I were going\",\"I`d have responded, if I were going\",neutral\n",
      "\n"
     ]
    }
   ],
   "source": [
    "file_path = \"extended_train.csv\"\n",
    "with open(file_path, \"r\") as f:\n",
    "    for _ in range(5):\n",
    "        print(f.readline())"
   ]
  },
  {
   "cell_type": "code",
   "execution_count": 4,
   "id": "234ba41a",
   "metadata": {},
   "outputs": [
    {
     "data": {
      "text/plain": [
       "pandas.core.frame.DataFrame"
      ]
     },
     "execution_count": 4,
     "metadata": {},
     "output_type": "execute_result"
    }
   ],
   "source": [
    "import pandas as pd\n",
    "csv = pd.read_csv(file_path)\n",
    "type(csv)"
   ]
  },
  {
   "cell_type": "code",
   "execution_count": 5,
   "id": "563ada75",
   "metadata": {},
   "outputs": [
    {
     "data": {
      "text/html": [
       "<div>\n",
       "<style scoped>\n",
       "    .dataframe tbody tr th:only-of-type {\n",
       "        vertical-align: middle;\n",
       "    }\n",
       "\n",
       "    .dataframe tbody tr th {\n",
       "        vertical-align: top;\n",
       "    }\n",
       "\n",
       "    .dataframe thead th {\n",
       "        text-align: right;\n",
       "    }\n",
       "</style>\n",
       "<table border=\"1\" class=\"dataframe\">\n",
       "  <thead>\n",
       "    <tr style=\"text-align: right;\">\n",
       "      <th></th>\n",
       "      <th>textID</th>\n",
       "      <th>text</th>\n",
       "      <th>selected_text</th>\n",
       "      <th>sentiment</th>\n",
       "    </tr>\n",
       "  </thead>\n",
       "  <tbody>\n",
       "    <tr>\n",
       "      <th>0</th>\n",
       "      <td>cb774db0d1</td>\n",
       "      <td>I`d have responded, if I were going</td>\n",
       "      <td>I`d have responded, if I were going</td>\n",
       "      <td>neutral</td>\n",
       "    </tr>\n",
       "    <tr>\n",
       "      <th>1</th>\n",
       "      <td>new_cb774db0d1_0</td>\n",
       "      <td>I`d have reply if I were going</td>\n",
       "      <td>I`d have reply if I were going</td>\n",
       "      <td>neutral</td>\n",
       "    </tr>\n",
       "    <tr>\n",
       "      <th>2</th>\n",
       "      <td>new_cb774db0d1_1</td>\n",
       "      <td>I`d have responded, if I were sound</td>\n",
       "      <td>I`d have responded, if I were sound</td>\n",
       "      <td>neutral</td>\n",
       "    </tr>\n",
       "    <tr>\n",
       "      <th>3</th>\n",
       "      <td>new_cb774db0d1_2</td>\n",
       "      <td>I`d have responded, if I were going</td>\n",
       "      <td>I`d have responded, if I were going</td>\n",
       "      <td>neutral</td>\n",
       "    </tr>\n",
       "    <tr>\n",
       "      <th>4</th>\n",
       "      <td>new_cb774db0d1_3</td>\n",
       "      <td>have I`d responded, if I were sound</td>\n",
       "      <td>have I`d responded, if I were sound</td>\n",
       "      <td>neutral</td>\n",
       "    </tr>\n",
       "    <tr>\n",
       "      <th>...</th>\n",
       "      <td>...</td>\n",
       "      <td>...</td>\n",
       "      <td>...</td>\n",
       "      <td>...</td>\n",
       "    </tr>\n",
       "    <tr>\n",
       "      <th>143210</th>\n",
       "      <td>new_6f7127d9d7_0</td>\n",
       "      <td>All this flirting going on - The ATG smiles Ya...</td>\n",
       "      <td>All this flirting going on - The ATG smiles Ya...</td>\n",
       "      <td>neutral</td>\n",
       "    </tr>\n",
       "    <tr>\n",
       "      <th>143211</th>\n",
       "      <td>new_6f7127d9d7_1</td>\n",
       "      <td>All this romance going on - The ATG grinning Y...</td>\n",
       "      <td>All this romance going on - The ATG grinning Y...</td>\n",
       "      <td>neutral</td>\n",
       "    </tr>\n",
       "    <tr>\n",
       "      <th>143212</th>\n",
       "      <td>new_6f7127d9d7_2</td>\n",
       "      <td>) All this flirting going on - The ATG smiles....</td>\n",
       "      <td>All this flirting going on - The ATG smiles. Y...</td>\n",
       "      <td>neutral</td>\n",
       "    </tr>\n",
       "    <tr>\n",
       "      <th>143213</th>\n",
       "      <td>new_6f7127d9d7_3</td>\n",
       "      <td>All this flirting going on - The ATG smiles Ya...</td>\n",
       "      <td>All this flirting going on - The ATG smiles Ya...</td>\n",
       "      <td>neutral</td>\n",
       "    </tr>\n",
       "    <tr>\n",
       "      <th>143214</th>\n",
       "      <td>new_6f7127d9d7_4</td>\n",
       "      <td>All this romance going on - The ATG Yay grinni...</td>\n",
       "      <td>All this romance going on - The ATG Yay grinni...</td>\n",
       "      <td>neutral</td>\n",
       "    </tr>\n",
       "  </tbody>\n",
       "</table>\n",
       "<p>143215 rows × 4 columns</p>\n",
       "</div>"
      ],
      "text/plain": [
       "                  textID                                               text  \\\n",
       "0             cb774db0d1                I`d have responded, if I were going   \n",
       "1       new_cb774db0d1_0                     I`d have reply if I were going   \n",
       "2       new_cb774db0d1_1                I`d have responded, if I were sound   \n",
       "3       new_cb774db0d1_2                I`d have responded, if I were going   \n",
       "4       new_cb774db0d1_3                have I`d responded, if I were sound   \n",
       "...                  ...                                                ...   \n",
       "143210  new_6f7127d9d7_0  All this flirting going on - The ATG smiles Ya...   \n",
       "143211  new_6f7127d9d7_1  All this romance going on - The ATG grinning Y...   \n",
       "143212  new_6f7127d9d7_2  ) All this flirting going on - The ATG smiles....   \n",
       "143213  new_6f7127d9d7_3  All this flirting going on - The ATG smiles Ya...   \n",
       "143214  new_6f7127d9d7_4  All this romance going on - The ATG Yay grinni...   \n",
       "\n",
       "                                            selected_text sentiment  \n",
       "0                     I`d have responded, if I were going   neutral  \n",
       "1                          I`d have reply if I were going   neutral  \n",
       "2                     I`d have responded, if I were sound   neutral  \n",
       "3                     I`d have responded, if I were going   neutral  \n",
       "4                     have I`d responded, if I were sound   neutral  \n",
       "...                                                   ...       ...  \n",
       "143210  All this flirting going on - The ATG smiles Ya...   neutral  \n",
       "143211  All this romance going on - The ATG grinning Y...   neutral  \n",
       "143212  All this flirting going on - The ATG smiles. Y...   neutral  \n",
       "143213  All this flirting going on - The ATG smiles Ya...   neutral  \n",
       "143214  All this romance going on - The ATG Yay grinni...   neutral  \n",
       "\n",
       "[143215 rows x 4 columns]"
      ]
     },
     "execution_count": 5,
     "metadata": {},
     "output_type": "execute_result"
    }
   ],
   "source": [
    "csv"
   ]
  },
  {
   "cell_type": "code",
   "execution_count": null,
   "id": "a3a9fc02",
   "metadata": {},
   "outputs": [],
   "source": []
  }
 ],
 "metadata": {
  "kernelspec": {
   "display_name": "Python 3 (ipykernel)",
   "language": "python",
   "name": "python3"
  },
  "language_info": {
   "codemirror_mode": {
    "name": "ipython",
    "version": 3
   },
   "file_extension": ".py",
   "mimetype": "text/x-python",
   "name": "python",
   "nbconvert_exporter": "python",
   "pygments_lexer": "ipython3",
   "version": "3.9.10"
  }
 },
 "nbformat": 4,
 "nbformat_minor": 5
}
