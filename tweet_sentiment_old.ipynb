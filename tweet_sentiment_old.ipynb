{
 "cells": [
  {
   "cell_type": "code",
   "execution_count": 1,
   "id": "532910e5",
   "metadata": {},
   "outputs": [],
   "source": [
    "trn_file = \"tweet_sentiment_old/train.csv\"\n",
    "tst_file = \"tweet_sentiment_old/test.csv\"\n",
    "\n",
    "import pandas as pd\n",
    "trn_csv = pd.read_csv(trn_file)\n",
    "tst_csv = pd.read_csv(tst_file)"
   ]
  },
  {
   "cell_type": "code",
   "execution_count": 2,
   "id": "b3333e22",
   "metadata": {},
   "outputs": [
    {
     "data": {
      "text/html": [
       "<div>\n",
       "<style scoped>\n",
       "    .dataframe tbody tr th:only-of-type {\n",
       "        vertical-align: middle;\n",
       "    }\n",
       "\n",
       "    .dataframe tbody tr th {\n",
       "        vertical-align: top;\n",
       "    }\n",
       "\n",
       "    .dataframe thead th {\n",
       "        text-align: right;\n",
       "    }\n",
       "</style>\n",
       "<table border=\"1\" class=\"dataframe\">\n",
       "  <thead>\n",
       "    <tr style=\"text-align: right;\">\n",
       "      <th></th>\n",
       "      <th>textID</th>\n",
       "      <th>text</th>\n",
       "      <th>selected_text</th>\n",
       "      <th>sentiment</th>\n",
       "    </tr>\n",
       "  </thead>\n",
       "  <tbody>\n",
       "    <tr>\n",
       "      <th>0</th>\n",
       "      <td>a3d0a7d5ad</td>\n",
       "      <td>Spent the entire morning in a meeting w/ a ven...</td>\n",
       "      <td>my boss was not happy w/ them. Lots of fun.</td>\n",
       "      <td>neutral</td>\n",
       "    </tr>\n",
       "    <tr>\n",
       "      <th>1</th>\n",
       "      <td>251b6a6766</td>\n",
       "      <td>Oh! Good idea about putting them on ice cream</td>\n",
       "      <td>Good</td>\n",
       "      <td>positive</td>\n",
       "    </tr>\n",
       "    <tr>\n",
       "      <th>2</th>\n",
       "      <td>c9e8d1ef1c</td>\n",
       "      <td>says good (or should i say bad?) afternoon!  h...</td>\n",
       "      <td>says good (or should i say bad?) afternoon!</td>\n",
       "      <td>neutral</td>\n",
       "    </tr>\n",
       "    <tr>\n",
       "      <th>3</th>\n",
       "      <td>f14f087215</td>\n",
       "      <td>i dont think you can vote anymore! i tried</td>\n",
       "      <td>i dont think you can vote anymore!</td>\n",
       "      <td>negative</td>\n",
       "    </tr>\n",
       "    <tr>\n",
       "      <th>4</th>\n",
       "      <td>bf7473b12d</td>\n",
       "      <td>haha better drunken tweeting you mean?</td>\n",
       "      <td>better</td>\n",
       "      <td>positive</td>\n",
       "    </tr>\n",
       "    <tr>\n",
       "      <th>...</th>\n",
       "      <td>...</td>\n",
       "      <td>...</td>\n",
       "      <td>...</td>\n",
       "      <td>...</td>\n",
       "    </tr>\n",
       "    <tr>\n",
       "      <th>27481</th>\n",
       "      <td>3dbae74fcd</td>\n",
       "      <td>I want to go to VP, but no one is willing to c...</td>\n",
       "      <td>I want to go to VP, but no one is willing to c...</td>\n",
       "      <td>neutral</td>\n",
       "    </tr>\n",
       "    <tr>\n",
       "      <th>27482</th>\n",
       "      <td>63147b35cb</td>\n",
       "      <td>Wah, why are you sad?</td>\n",
       "      <td>Wah, why are you sad?</td>\n",
       "      <td>neutral</td>\n",
       "    </tr>\n",
       "    <tr>\n",
       "      <th>27483</th>\n",
       "      <td>bdb196a09f</td>\n",
       "      <td>playing sudoku while mommy makes me breakfast ...</td>\n",
       "      <td>playing sudoku while mommy makes me breakfast ...</td>\n",
       "      <td>neutral</td>\n",
       "    </tr>\n",
       "    <tr>\n",
       "      <th>27484</th>\n",
       "      <td>18c2a1e98e</td>\n",
       "      <td>see u bye see u!  i love the hot30</td>\n",
       "      <td>i love</td>\n",
       "      <td>positive</td>\n",
       "    </tr>\n",
       "    <tr>\n",
       "      <th>27485</th>\n",
       "      <td>1c1f3724db</td>\n",
       "      <td>ha ha, and what game is that? i like games</td>\n",
       "      <td>? i like</td>\n",
       "      <td>positive</td>\n",
       "    </tr>\n",
       "  </tbody>\n",
       "</table>\n",
       "<p>27486 rows × 4 columns</p>\n",
       "</div>"
      ],
      "text/plain": [
       "           textID                                               text  \\\n",
       "0      a3d0a7d5ad  Spent the entire morning in a meeting w/ a ven...   \n",
       "1      251b6a6766      Oh! Good idea about putting them on ice cream   \n",
       "2      c9e8d1ef1c  says good (or should i say bad?) afternoon!  h...   \n",
       "3      f14f087215         i dont think you can vote anymore! i tried   \n",
       "4      bf7473b12d             haha better drunken tweeting you mean?   \n",
       "...           ...                                                ...   \n",
       "27481  3dbae74fcd  I want to go to VP, but no one is willing to c...   \n",
       "27482  63147b35cb                              Wah, why are you sad?   \n",
       "27483  bdb196a09f  playing sudoku while mommy makes me breakfast ...   \n",
       "27484  18c2a1e98e                 see u bye see u!  i love the hot30   \n",
       "27485  1c1f3724db         ha ha, and what game is that? i like games   \n",
       "\n",
       "                                           selected_text sentiment  \n",
       "0            my boss was not happy w/ them. Lots of fun.   neutral  \n",
       "1                                                   Good  positive  \n",
       "2            says good (or should i say bad?) afternoon!   neutral  \n",
       "3                     i dont think you can vote anymore!  negative  \n",
       "4                                                 better  positive  \n",
       "...                                                  ...       ...  \n",
       "27481  I want to go to VP, but no one is willing to c...   neutral  \n",
       "27482                              Wah, why are you sad?   neutral  \n",
       "27483  playing sudoku while mommy makes me breakfast ...   neutral  \n",
       "27484                                             i love  positive  \n",
       "27485                                           ? i like  positive  \n",
       "\n",
       "[27486 rows x 4 columns]"
      ]
     },
     "execution_count": 2,
     "metadata": {},
     "output_type": "execute_result"
    }
   ],
   "source": [
    "trn_csv"
   ]
  },
  {
   "cell_type": "code",
   "execution_count": 5,
   "id": "7f49159c",
   "metadata": {},
   "outputs": [
    {
     "data": {
      "text/plain": [
       "textID                                                  9dda22ab22\n",
       "text             Working on several book projects that are due ...\n",
       "selected_text                                               l good\n",
       "sentiment                                                 positive\n",
       "Name: 23423, dtype: object"
      ]
     },
     "execution_count": 5,
     "metadata": {},
     "output_type": "execute_result"
    }
   ],
   "source": [
    "i = 23423\n",
    "trn_csv.loc[i]"
   ]
  },
  {
   "cell_type": "code",
   "execution_count": null,
   "id": "c743ca6c",
   "metadata": {},
   "outputs": [],
   "source": []
  }
 ],
 "metadata": {
  "kernelspec": {
   "display_name": "Python 3 (ipykernel)",
   "language": "python",
   "name": "python3"
  },
  "language_info": {
   "codemirror_mode": {
    "name": "ipython",
    "version": 3
   },
   "file_extension": ".py",
   "mimetype": "text/x-python",
   "name": "python",
   "nbconvert_exporter": "python",
   "pygments_lexer": "ipython3",
   "version": "3.9.10"
  }
 },
 "nbformat": 4,
 "nbformat_minor": 5
}
