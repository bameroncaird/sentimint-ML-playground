{
 "cells": [
  {
   "cell_type": "markdown",
   "id": "362470ff",
   "metadata": {},
   "source": [
    "In this notebook, we will try to get logistic regression running.\n",
    "\n",
    "Helpful documentation: https://scikit-learn.org/stable/tutorial/text_analytics/working_with_text_data.html "
   ]
  },
  {
   "cell_type": "code",
   "execution_count": 1,
   "id": "6ed54a97",
   "metadata": {},
   "outputs": [],
   "source": [
    "import pandas as pd"
   ]
  },
  {
   "cell_type": "code",
   "execution_count": 2,
   "id": "9010d83c",
   "metadata": {},
   "outputs": [
    {
     "name": "stdout",
     "output_type": "stream",
     "text": [
      "(38961, 2)\n"
     ]
    }
   ],
   "source": [
    "# load data\n",
    "data_path = \"cleaned_data.csv\" # get the data without the disagreements\n",
    "data = pd.read_csv(data_path)[['text','sentiment']]\n",
    "print(data.shape)"
   ]
  },
  {
   "cell_type": "code",
   "execution_count": 3,
   "id": "7d117aff",
   "metadata": {},
   "outputs": [
    {
     "data": {
      "text/html": [
       "<div>\n",
       "<style scoped>\n",
       "    .dataframe tbody tr th:only-of-type {\n",
       "        vertical-align: middle;\n",
       "    }\n",
       "\n",
       "    .dataframe tbody tr th {\n",
       "        vertical-align: top;\n",
       "    }\n",
       "\n",
       "    .dataframe thead th {\n",
       "        text-align: right;\n",
       "    }\n",
       "</style>\n",
       "<table border=\"1\" class=\"dataframe\">\n",
       "  <thead>\n",
       "    <tr style=\"text-align: right;\">\n",
       "      <th></th>\n",
       "      <th>text</th>\n",
       "      <th>sentiment</th>\n",
       "    </tr>\n",
       "  </thead>\n",
       "  <tbody>\n",
       "    <tr>\n",
       "      <th>0</th>\n",
       "      <td>Spent the entire morning in a meeting w/ a ven...</td>\n",
       "      <td>neutral</td>\n",
       "    </tr>\n",
       "    <tr>\n",
       "      <th>1</th>\n",
       "      <td>Oh! Good idea about putting them on ice cream</td>\n",
       "      <td>positive</td>\n",
       "    </tr>\n",
       "    <tr>\n",
       "      <th>2</th>\n",
       "      <td>says good (or should i say bad?) afternoon!  h...</td>\n",
       "      <td>neutral</td>\n",
       "    </tr>\n",
       "    <tr>\n",
       "      <th>3</th>\n",
       "      <td>haha better drunken tweeting you mean?</td>\n",
       "      <td>positive</td>\n",
       "    </tr>\n",
       "    <tr>\n",
       "      <th>4</th>\n",
       "      <td>had an awsome salad! I recommend getting the S...</td>\n",
       "      <td>positive</td>\n",
       "    </tr>\n",
       "    <tr>\n",
       "      <th>...</th>\n",
       "      <td>...</td>\n",
       "      <td>...</td>\n",
       "    </tr>\n",
       "    <tr>\n",
       "      <th>38956</th>\n",
       "      <td>RT @toricolelli: My phones been charging for a...</td>\n",
       "      <td>negative</td>\n",
       "    </tr>\n",
       "    <tr>\n",
       "      <th>38957</th>\n",
       "      <td>'@WhoaBiebz: GET YOUR SHIT TOGETHER OR I'LL GU...</td>\n",
       "      <td>negative</td>\n",
       "    </tr>\n",
       "    <tr>\n",
       "      <th>38958</th>\n",
       "      <td>Those** PICK UP THE SLACK YOU FUCK BOYS @Apple</td>\n",
       "      <td>negative</td>\n",
       "    </tr>\n",
       "    <tr>\n",
       "      <th>38959</th>\n",
       "      <td>@umo_games @Apple ended up getting a new compu...</td>\n",
       "      <td>neutral</td>\n",
       "    </tr>\n",
       "    <tr>\n",
       "      <th>38960</th>\n",
       "      <td>The 19-Year-Old #WizKid Who Turned Down @Apple...</td>\n",
       "      <td>neutral</td>\n",
       "    </tr>\n",
       "  </tbody>\n",
       "</table>\n",
       "<p>38961 rows × 2 columns</p>\n",
       "</div>"
      ],
      "text/plain": [
       "                                                    text sentiment\n",
       "0      Spent the entire morning in a meeting w/ a ven...   neutral\n",
       "1          Oh! Good idea about putting them on ice cream  positive\n",
       "2      says good (or should i say bad?) afternoon!  h...   neutral\n",
       "3                 haha better drunken tweeting you mean?  positive\n",
       "4      had an awsome salad! I recommend getting the S...  positive\n",
       "...                                                  ...       ...\n",
       "38956  RT @toricolelli: My phones been charging for a...  negative\n",
       "38957  '@WhoaBiebz: GET YOUR SHIT TOGETHER OR I'LL GU...  negative\n",
       "38958     Those** PICK UP THE SLACK YOU FUCK BOYS @Apple  negative\n",
       "38959  @umo_games @Apple ended up getting a new compu...   neutral\n",
       "38960  The 19-Year-Old #WizKid Who Turned Down @Apple...   neutral\n",
       "\n",
       "[38961 rows x 2 columns]"
      ]
     },
     "execution_count": 3,
     "metadata": {},
     "output_type": "execute_result"
    }
   ],
   "source": [
    "data"
   ]
  },
  {
   "cell_type": "code",
   "execution_count": 1,
   "id": "363789cc",
   "metadata": {},
   "outputs": [],
   "source": [
    "# how to extract features? TfIdf, countvectorizer, bow, etc."
   ]
  },
  {
   "cell_type": "code",
   "execution_count": null,
   "id": "c283c827",
   "metadata": {},
   "outputs": [],
   "source": []
  }
 ],
 "metadata": {
  "kernelspec": {
   "display_name": "Python 3 (ipykernel)",
   "language": "python",
   "name": "python3"
  },
  "language_info": {
   "codemirror_mode": {
    "name": "ipython",
    "version": 3
   },
   "file_extension": ".py",
   "mimetype": "text/x-python",
   "name": "python",
   "nbconvert_exporter": "python",
   "pygments_lexer": "ipython3",
   "version": "3.9.10"
  }
 },
 "nbformat": 4,
 "nbformat_minor": 5
}
